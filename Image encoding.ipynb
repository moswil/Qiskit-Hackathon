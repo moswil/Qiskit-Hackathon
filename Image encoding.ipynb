{
 "cells": [
  {
   "cell_type": "code",
   "execution_count": 30,
   "metadata": {},
   "outputs": [
    {
     "name": "stdout",
     "output_type": "stream",
     "text": [
      "Keeping 90.0 percent of the original data requires: 25 bytes\n"
     ]
    }
   ],
   "source": [
    "#!/usr/bin/env python\n",
    "# coding: utf-8\n",
    "\n",
    "\n",
    "import cv2\n",
    "import numpy as np\n",
    "import os\n",
    "from sklearn.decomposition import PCA\n",
    "from sklearn.preprocessing import StandardScaler\n",
    "import matplotlib.pyplot as plt\n",
    "\n",
    "DIR = 'MalariaDrugImagesGHS'\n",
    "DIM = 128\n",
    "\n",
    "count = len(os.listdir(DIR))\n",
    "images = np.zeros([count, DIM, DIM], dtype='uint8')\n",
    "\n",
    "# Read and resize images\n",
    "scaler = StandardScaler()\n",
    "for (i,image) in zip(range(len(os.listdir(DIR))), os.listdir(DIR)):\n",
    "    im_arr = cv2.imread(os.path.join(DIR, image))\n",
    "    im_arr = cv2.cvtColor(im_arr, cv2.COLOR_BGR2GRAY)\n",
    "    im_arr = cv2.resize(im_arr, (DIM, DIM))\n",
    "    im_arr = scaler.fit_transform(im_arr)\n",
    "    plt.imshow(im_arr)\n",
    "    images[i] = im_arr\n",
    "\n",
    "images = images.reshape(count, -1)\n",
    "\n",
    "'''\n",
    "pca = PCA(n_components=200)\n",
    "pca.fit(images)\n",
    "\n",
    "'''\n",
    "# pca = PCA(.99)\n",
    "# lower_dimensional_data = pca.fit_transform(images)\n",
    "# pca.n_components_\n",
    "\n",
    "\n",
    "# In[89]:\n",
    "\n",
    "lower_dimensional_data = None\n",
    "for var in [0.9]: #, 0.9, 0.85, 0.8, 0.75, 0.3]:\n",
    "    pca = PCA(var)\n",
    "    pca.fit(images)\n",
    "    lower_dimensional_data = pca.fit_transform(images)\n",
    "    approximation = pca.inverse_transform(lower_dimensional_data)\n",
    "    plt.figure(figsize=(8,4));\n",
    "\n",
    "    # Original Image\n",
    "    plt.subplot(1, 2, 1);\n",
    "    plt.imshow(images[1].reshape(DIM,DIM),\n",
    "                  cmap = plt.cm.gray, interpolation='nearest',\n",
    "                  clim=(0, 255));\n",
    "    plt.xlabel(str(images[0].shape[0]) + ' components', fontsize = 14)\n",
    "    plt.title('Original Image', fontsize = 20);\n",
    "\n",
    "    # 154 principal components\n",
    "    plt.subplot(1, 2, 2);\n",
    "    plt.imshow(approximation[1].reshape(DIM, DIM),\n",
    "                  cmap = plt.cm.gray, interpolation='nearest',\n",
    "                  clim=(0, 255));\n",
    "    plt.xlabel(str(pca.n_components_) + ' components', fontsize = 14)\n",
    "    plt.title(str(var*100) + '% of Explained Variance', fontsize = 20);\n",
    "    plt.show()\n",
    "    print('Keeping ' +str(var*100) +' percent of the original data requires: ' + str(pca.n_components_) + ' bytes')\n",
    "\n"
   ]
  },
  {
   "cell_type": "code",
   "execution_count": 29,
   "metadata": {},
   "outputs": [
    {
     "data": {
      "text/plain": [
       "(12,)"
      ]
     },
     "execution_count": 29,
     "metadata": {},
     "output_type": "execute_result"
    }
   ],
   "source": [
    "lower_dimensional_data[0].shape"
   ]
  },
  {
   "cell_type": "code",
   "execution_count": 46,
   "metadata": {},
   "outputs": [],
   "source": [
    "from qiskit import QuantumCircuit, execute, Aer, IBMQ\n",
    "IBMQ."
   ]
  },
  {
   "cell_type": "code",
   "execution_count": 59,
   "metadata": {},
   "outputs": [
    {
     "name": "stdout",
     "output_type": "stream",
     "text": [
      "[INFO] Offline mode: only simulators can be accessed\n",
      "['qasm_simulator', 'statevector_simulator', 'unitary_simulator']\n",
      "[('qasm_simulator', 29), ('statevector_simulator', 29), ('unitary_simulator', 14)]\n"
     ]
    }
   ],
   "source": [
    "\n",
    "# Importing standard Qiskit libraries and configuring account\n",
    "from qiskit import QuantumCircuit, execute, Aer, IBMQ\n",
    "from qiskit.compiler import transpile, assemble\n",
    "from qiskit.tools.jupyter import *\n",
    "from qiskit.visualization import *\n",
    "# Loading your IBM Q account(s)\n",
    "\n",
    "# import settings\n",
    "\n",
    "import os\n",
    "\n",
    "\n",
    "class QBitsLoader():\n",
    "    \n",
    "    def __init__(self, online=False):\n",
    "        self.online = online\n",
    "\n",
    "        if self.online:\n",
    "            TOKEN = os.getenv('TOKEN')\n",
    "            IBMQ.save_account(TOKEN, overwrite=True)\n",
    "            provider = IBMQ.load_account()\n",
    "            self.backends = provider.backends()\n",
    "            self.backends.append(Aer.backends())\n",
    "        else:\n",
    "            print('[INFO] Offline mode: only simulators can be accessed')\n",
    "            self.backends = Aer.backends()\n",
    "\n",
    "    def get_backends(self):\n",
    "        \"\"\"\n",
    "            Returns a list of tuples with the available backends and their number of qubits\n",
    "        \"\"\"\n",
    "        return [backend.name() for backend in self.backends]\n",
    "\n",
    "    def get_backends_with_qubits(self):\n",
    "        \"\"\"\n",
    "            Returns a list of tuples with the available backends and their number of qubits\n",
    "        \"\"\"\n",
    "        return [(backend.name(), backend.configuration().n_qubits,) for backend in self.backends]\n",
    "    \n",
    "    def find_backend(self, name):\n",
    "        \"\"\"\n",
    "            Finds a backend by its name\n",
    "        \"\"\"\n",
    "        for backend in self.backends:\n",
    "            if name == backend.name():\n",
    "                return backend\n",
    "        raise ValueError(f\"Backend '{name}' not found\")\n",
    "    \n",
    "    def get_backend_qubits(self, name):\n",
    "        \"\"\"\n",
    "            Returns the number of qubits a certain quantum device can handle\n",
    "        \"\"\"\n",
    "        return self.find_backend(name).configuration.n_qubits\n",
    "    \n",
    "    def pca_recommendation(self, name):\n",
    "        qubits = self.get_backend_qubits(name)\n",
    "        components = 2**qubits\n",
    "    \n",
    "    \n",
    "\n",
    "if __name__ == \"__main__\":\n",
    "    q_bits_loader = QBitsLoader(False)\n",
    "    \n",
    "    print(q_bits_loader.get_backends())\n",
    "    print(q_bits_loader.get_backends_with_qubits())\n",
    "    b = q_bits_loader.call_backend('unitary_simulator')"
   ]
  },
  {
   "cell_type": "code",
   "execution_count": 55,
   "metadata": {},
   "outputs": [],
   "source": [
    "import numpy as np\n",
    "import math\n",
    "import matplotlib.pyplot as plt \n",
    "from qiskit.visualization import plot_histogram, plot_bloch_multivector\n",
    "\n",
    "from qiskit.aqua.components.initial_states import Custom\n",
    "from qiskit import ClassicalRegister, Aer, execute, QuantumCircuit, QuantumRegister\n",
    "\n",
    "def circuit(vec):\n",
    "    qbits =  int(math.log2(length))\n",
    "    cct = Custom(qbits, state_vector=vec)\n",
    "    return cct.construct_circuit('circuit'), qbits\n",
    "\n",
    "for image,feature in zip(os.listdir(DIR)[:3],lower_dimensional_data[:3]):\n",
    "    vector = np.array(feature)\n",
    "    length = vector.shape[0]\n",
    "    if int(math.log2(length)) != length:\n",
    "        pad_length = 2**(int(math.log2(length))+1)\n",
    "        vector = np.pad(vector, (0, pad_length - length), mode='constant')\n",
    "    length = vector.shape[0]\n",
    "    \n",
    "    cr, qbits = circuit(vector)\n",
    "#     print(list(range(qbits)))\n",
    "#     cr.add_register(ClassicalRegister(qbits))\n",
    "#     cr.measure(list(range(qbits)), list(range(qbits)))\n",
    "    \n",
    "#     simulator = Aer.get_backend('qasm_simulator')\n",
    "#     counts = execute(cr, backend=simulator, shots=1024).result().get_counts()\n",
    "#     plot_histogram(counts)\n",
    "    simulator = Aer.get_backend('statevector_simulator')\n",
    "    result = execute(cr, backend = simulator).result()\n",
    "    statevector = result.get_statevector()\n",
    "    plot_bloch_multivector(statevector)\n",
    "    cr.draw(output = 'mpl')\n",
    "\n",
    "    plt.show()\n",
    "\n",
    "    # \n",
    "    # print(dir(cr))"
   ]
  },
  {
   "cell_type": "code",
   "execution_count": 3,
   "metadata": {},
   "outputs": [
    {
     "data": {
      "text/plain": [
       "dict_values([1, 59, 404, 68, 35, 5, 64, 105, 95, 2, 186])"
      ]
     },
     "execution_count": 3,
     "metadata": {},
     "output_type": "execute_result"
    }
   ],
   "source": [
    "counts.values()"
   ]
  },
  {
   "cell_type": "code",
   "execution_count": 4,
   "metadata": {},
   "outputs": [
    {
     "name": "stdout",
     "output_type": "stream",
     "text": [
      "Using matplotlib backend: Qt5Agg\n"
     ]
    }
   ],
   "source": [
    "%matplotlib"
   ]
  },
  {
   "cell_type": "code",
   "execution_count": null,
   "metadata": {},
   "outputs": [],
   "source": []
  }
 ],
 "metadata": {
  "kernelspec": {
   "display_name": "Python 3",
   "language": "python",
   "name": "python3"
  },
  "language_info": {
   "codemirror_mode": {
    "name": "ipython",
    "version": 3
   },
   "file_extension": ".py",
   "mimetype": "text/x-python",
   "name": "python",
   "nbconvert_exporter": "python",
   "pygments_lexer": "ipython3",
   "version": "3.7.5"
  }
 },
 "nbformat": 4,
 "nbformat_minor": 2
}
